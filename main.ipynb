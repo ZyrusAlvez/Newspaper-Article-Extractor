{
 "cells": [
  {
   "cell_type": "markdown",
   "id": "2e0a7122",
   "metadata": {},
   "source": [
    "**Initialization**"
   ]
  },
  {
   "cell_type": "code",
   "execution_count": 1,
   "id": "9350721b",
   "metadata": {},
   "outputs": [
    {
     "name": "stderr",
     "output_type": "stream",
     "text": [
      "c:\\Users\\zyrus\\AppData\\Local\\Programs\\Python\\Python311\\Lib\\site-packages\\tqdm\\auto.py:21: TqdmWarning: IProgress not found. Please update jupyter and ipywidgets. See https://ipywidgets.readthedocs.io/en/stable/user_install.html\n",
      "  from .autonotebook import tqdm as notebook_tqdm\n"
     ]
    },
    {
     "data": {
      "text/plain": [
       "True"
      ]
     },
     "execution_count": 1,
     "metadata": {},
     "output_type": "execute_result"
    }
   ],
   "source": [
    "import google.generativeai as genai\n",
    "import json\n",
    "import os\n",
    "from dotenv import load_dotenv\n",
    "import easyocr\n",
    "import cv2\n",
    "from rapidfuzz import fuzz\n",
    "\n",
    "load_dotenv()"
   ]
  },
  {
   "cell_type": "markdown",
   "id": "1e128b1c",
   "metadata": {},
   "source": [
    "**Gemini Model**"
   ]
  },
  {
   "cell_type": "code",
   "execution_count": 2,
   "id": "04d788c6",
   "metadata": {},
   "outputs": [],
   "source": [
    "def generate(prompt, image_path) -> list | dict:\n",
    "    api_key = os.getenv(\"GEMINI_API_KEY\")\n",
    "    genai.configure(api_key=api_key)\n",
    "\n",
    "    model = genai.GenerativeModel(\n",
    "        model_name=\"gemini-2.5-flash\",\n",
    "        system_instruction=\"You are a helpful assistant that extracts newspaper fields from images.\",\n",
    "        generation_config={\"response_mime_type\": \"application/json\"}\n",
    "    )\n",
    "\n",
    "    with open(image_path, \"rb\") as image_file:\n",
    "        image_bytes = image_file.read()\n",
    "\n",
    "    response = model.generate_content([\n",
    "        {\"text\": prompt},\n",
    "        {\"mime_type\": \"image/png\", \"data\": image_bytes}\n",
    "    ])\n",
    "\n",
    "    raw_json = response.text\n",
    "    data = json.loads(raw_json)\n",
    "\n",
    "    return data"
   ]
  },
  {
   "cell_type": "markdown",
   "id": "54b4b3f9",
   "metadata": {},
   "source": [
    "**Call to generate from Gemini**"
   ]
  },
  {
   "cell_type": "code",
   "execution_count": 3,
   "id": "754ad9b5",
   "metadata": {},
   "outputs": [
    {
     "name": "stdout",
     "output_type": "stream",
     "text": [
      "[\n",
      "  \"Thunderbelles' 5th-set grit turns back Crossovers\",\n",
      "  \"Tenorio to follow in Jawo's footsteps as playing coach?\",\n",
      "  \"Caloocan, Pangasinan hurdle rivals\",\n",
      "  \"Cone lauds CJ Perez for helping Gilas defeat Black Bears\",\n",
      "  \"Edoc shines as weather whips up surprises at JPGT Riviera\"\n",
      "]\n"
     ]
    }
   ],
   "source": [
    "headline_schema = {\n",
    "\t\"type\": \"array\",\n",
    "\t\"items\": {\"type\": \"string\"}\n",
    "}\n",
    "\n",
    "headline_prompt = (\n",
    "\t\"You are given a newspaper image. \"\n",
    "\t\"Extract only the main article headlines — ignore advertisements, captions, subheadlines, and any other text. \"\n",
    "\t\"Return the result strictly matching this JSON schema:\\n\\n\"\n",
    "\tf\"{json.dumps(headline_schema, indent=2)}\"\n",
    ")\n",
    "\n",
    "target_image_path = \"page_8.png\"\n",
    "\n",
    "headlines = generate(headline_prompt, target_image_path)\n",
    "\n",
    "for i, headline in enumerate(headlines):\n",
    "    headlines[i] = headlines[i].replace(\"/u\", \" \")\n",
    "\n",
    "# Dev log\n",
    "print(json.dumps(headlines, indent=2))"
   ]
  },
  {
   "cell_type": "markdown",
   "id": "61716e67",
   "metadata": {},
   "source": [
    "**EasyOCR reads**"
   ]
  },
  {
   "cell_type": "code",
   "execution_count": 4,
   "id": "29d15d3a",
   "metadata": {},
   "outputs": [
    {
     "name": "stderr",
     "output_type": "stream",
     "text": [
      "Neither CUDA nor MPS are available - defaulting to CPU. Note: This module is much faster with a GPU.\n",
      "c:\\Users\\zyrus\\AppData\\Local\\Programs\\Python\\Python311\\Lib\\site-packages\\torch\\utils\\data\\dataloader.py:665: UserWarning: 'pin_memory' argument is set as true but no accelerator is found, then device pinned memory won't be used.\n",
      "  warnings.warn(warn_msg)\n"
     ]
    },
    {
     "data": {
      "text/plain": [
       "True"
      ]
     },
     "execution_count": 4,
     "metadata": {},
     "output_type": "execute_result"
    }
   ],
   "source": [
    "reader = easyocr.Reader(['en'])\n",
    "image = cv2.imread(target_image_path)\n",
    "results = reader.readtext(image, width_ths=2, link_threshold=0.3,)\n",
    "\n",
    "image_raw = image.copy()\n",
    "for (top_left, top_right, bottom_right, bottom_left), text, confidence in results:\n",
    "    tl = (int(top_left[0]), int(top_left[1]))\n",
    "    br = (int(bottom_right[0]), int(bottom_right[1]))\n",
    "    cv2.rectangle(image_raw, tl, br, (0, 0, 255), 2)\n",
    "    coord_label = f\"{tl} {br}\"\n",
    "    cv2.putText(image_raw, coord_label, (tl[0], tl[1] - 10),\n",
    "                cv2.FONT_HERSHEY_SIMPLEX, 0.5, (0, 255, 0), 1)\n",
    "\n",
    "output_path_raw = target_image_path.replace(\".png\", \"_ocr_boxes.png\")\n",
    "cv2.imwrite(output_path_raw, image_raw)"
   ]
  },
  {
   "cell_type": "markdown",
   "id": "721e17bb",
   "metadata": {},
   "source": [
    "**Finds the coordinates of the headings**"
   ]
  },
  {
   "cell_type": "code",
   "execution_count": 5,
   "id": "79a24a8f",
   "metadata": {},
   "outputs": [
    {
     "name": "stdout",
     "output_type": "stream",
     "text": [
      "text=\"Thunderbelles'\" headline=\"Thunderbelles' 5th-set grit turns back Crossovers\" ((103, 888), (798, 1046))\n",
      "text='Sth-set grit' headline=\"Thunderbelles' 5th-set grit turns back Crossovers\" ((107, 1035), (652, 1205))\n",
      "text='turns back' headline=\"Thunderbelles' 5th-set grit turns back Crossovers\" ((98, 1174), (607, 1319))\n",
      "text='Crossovers' headline=\"Thunderbelles' 5th-set grit turns back Crossovers\" ((105, 1312), (596, 1450))\n",
      "text='footsteps as playing coach?' headline=\"Tenorio to follow in Jawo's footsteps as playing coach?\" ((794, 2482), (3587, 2862))\n",
      "text='Tenorio' headline=\"Tenorio to follow in Jawo's footsteps as playing coach?\" ((2348, 3166), (2476, 3203))\n",
      "text='Pangasinan' headline='Caloocan, Pangasinan hurdle rivals' ((100, 4139), (616, 4311))\n",
      "text='hurdle rivals' headline='Caloocan, Pangasinan hurdle rivals' ((105, 4276), (638, 4414))\n",
      "text='Caloocan;' headline='Caloocan, Pangasinan hurdle rivals' ((559, 5251), (753, 5299))\n",
      "text='surprises at JPGT Riviera' headline='Edoc shines as weather whips up surprises at JPGT Riviera' ((1219, 5444), (2302, 5619))\n",
      "text='helping' headline='Cone lauds CJ Perez for helping Gilas defeat Black Bears' ((3227, 4453), (3353, 4514))\n"
     ]
    }
   ],
   "source": [
    "def is_close(coordinate1, coordinate2, gap_x=20, gap_y=50):\n",
    "    ex_tl, ex_br = coordinate1\n",
    "    tl, br = coordinate2\n",
    "\n",
    "    horizontal_close = abs(ex_tl[1] - tl[1]) < gap_x \n",
    "    if horizontal_close:\n",
    "        return True\n",
    "    else:\n",
    "        \"\"\"\n",
    "        Returns True if rectangles overlap or are within gap thresholds.\n",
    "        \"\"\"\n",
    "        if ex_br[0] + gap_x < tl[0]:  # a is strictly left of b\n",
    "            return False\n",
    "        if br[0] + gap_x < ex_tl[0]:  # b is strictly left of a\n",
    "            return False\n",
    "        if ex_br[1] + gap_y < tl[1]:  # a is strictly above b\n",
    "            return False\n",
    "        if br[1] + gap_y < ex_tl[1]:  # b is strictly above a\n",
    "            return False\n",
    "        return True\n",
    "\n",
    "bounding_box = {}\n",
    "for headline in headlines:\n",
    "    bounding_box[headline] = None\n",
    "\n",
    "\n",
    "for coordinates, text, _ in results:\n",
    "    for headline in headlines:\n",
    "        score = fuzz.partial_ratio(headline, text)\n",
    "\n",
    "        if score > 90 and len(text) > 3:\n",
    "            \n",
    "            top_left, _, bottom_right, _ = coordinates\n",
    "            current_box = ((int(top_left[0]), int(top_left[1])),\n",
    "                           (int(bottom_right[0]), int(bottom_right[1])))\n",
    "            \n",
    "            \n",
    "\n",
    "            # Assign the coordinates\n",
    "            if bounding_box[headline] is None:\n",
    "                bounding_box[headline] = current_box\n",
    "            else:\n",
    "                print(f\"{text=} {headline=} {current_box}\")\n",
    "                if is_close(bounding_box[headline], current_box):\n",
    "                    \n",
    "                    (ex_tl_x, ex_tl_y), (ex_br_x, ex_br_y) = bounding_box[headline]\n",
    "                    new_tl = (min(ex_tl_x, current_box[0][0]), min(ex_tl_y, current_box[0][1]))\n",
    "                    new_br = (max(ex_br_x, current_box[1][0]), max(ex_br_y, current_box[1][1]))\n",
    "                    bounding_box[headline] = (new_tl, new_br)\n"
   ]
  },
  {
   "cell_type": "markdown",
   "id": "a7e49a17",
   "metadata": {},
   "source": [
    "**Write the bounding box**"
   ]
  },
  {
   "cell_type": "code",
   "execution_count": 6,
   "id": "9026b874",
   "metadata": {},
   "outputs": [
    {
     "name": "stdout",
     "output_type": "stream",
     "text": [
      "(3335, 803) (3594, 846)\n",
      "(794, 2240) (3587, 2862)\n",
      "(100, 3999) (638, 4414)\n",
      "(826, 3844) (3534, 4051)\n",
      "(1039, 5301) (2493, 5619)\n"
     ]
    },
    {
     "data": {
      "text/plain": [
       "True"
      ]
     },
     "execution_count": 6,
     "metadata": {},
     "output_type": "execute_result"
    }
   ],
   "source": [
    "image_merged = image.copy()\n",
    "for tl, br in bounding_box.values():\n",
    "    cv2.rectangle(image_merged, tl, br, (0, 255, 0), 5)\n",
    "    print(tl, br)\n",
    "\n",
    "output_path_merged = f\"{os.path.splitext(target_image_path)[0]}_result{os.path.splitext(target_image_path)[1]}\"\n",
    "cv2.imwrite(output_path_merged, image_merged)"
   ]
  }
 ],
 "metadata": {
  "kernelspec": {
   "display_name": "Python 3",
   "language": "python",
   "name": "python3"
  },
  "language_info": {
   "codemirror_mode": {
    "name": "ipython",
    "version": 3
   },
   "file_extension": ".py",
   "mimetype": "text/x-python",
   "name": "python",
   "nbconvert_exporter": "python",
   "pygments_lexer": "ipython3",
   "version": "3.11.0"
  }
 },
 "nbformat": 4,
 "nbformat_minor": 5
}
